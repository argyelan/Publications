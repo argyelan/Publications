{
 "cells": [
  {
   "cell_type": "markdown",
   "id": "f5976009",
   "metadata": {},
   "source": [
    "# Permutation test: spatial similarity"
   ]
  },
  {
   "cell_type": "markdown",
   "id": "c8887d2a",
   "metadata": {},
   "source": [
    "### Reading in the maps and values"
   ]
  },
  {
   "cell_type": "code",
   "execution_count": 41,
   "id": "bc932ddb",
   "metadata": {},
   "outputs": [
    {
     "name": "stderr",
     "output_type": "stream",
     "text": [
      "/tmp/ipykernel_25/2780448308.py:6: FutureWarning: merging between different levels is deprecated and will be removed in a future version. (2 levels on the left, 1 on the right)\n",
      "  Xw = Xwide.merge(Xlong[['Record ID', 'age', 'Hamd change percent','pmnt', 'nECT']].drop_duplicates(), on='Record ID').dropna()\n"
     ]
    },
    {
     "data": {
      "text/plain": [
       "(85,)"
      ]
     },
     "execution_count": 41,
     "metadata": {},
     "output_type": "execute_result"
    }
   ],
   "source": [
    "import pandas as pd\n",
    "import numpy as np\n",
    "efvol_sid_hamd2 = pd.read_csv('/resources/ANALYSIS/Efvol_N386.csv')\n",
    "Xlong=efvol_sid_hamd2[['Record ID', 'roi','ef_mix3','volume change','age', 'Hamd change percent','pmnt','nECT']].iloc[np.where(efvol_sid_hamd2['pmnt']==0)]\n",
    "Xwide=pd.pivot(Xlong, index='Record ID', columns= 'roi', values=['ef_mix3','volume change'])\n",
    "Xw = Xwide.merge(Xlong[['Record ID', 'age', 'Hamd change percent','pmnt', 'nECT']].drop_duplicates(), on='Record ID').dropna()\n",
    "orreg_t = [i[1] for i in Xw.columns[1:86]]\n",
    "orreg = pd.DataFrame(orreg_t).astype(str)[0].str.replace('_','-')\n",
    "#orreg\n",
    "\n",
    "import numpy as np\n",
    "\n",
    "\n",
    "siddiqi_table = np.loadtxt('/resources/Siddiqi/Desikan-Killiany-Atlas-Siddiqi_2021_NHB_CombinedMap.txt', dtype=\"i1,i1,i4,f4,S32,f4,f4,f4,f4,f4\")\n",
    "#ef_table = fs.read_label('/input/EF_ALL/Roast30/G100104/RUL-ALL-01-EF_MAGN_result.txt')\n",
    "#pd.DataFrame(ef_table, columns=['index', 'segid', 'nvox', 'volmm3', 'structure_name', 'ef_mean', 'ef_std', 'ef_min', 'ef_max', 'ef_range'],  dtype=\"i1,i1,i4,f4,S32,f4,f4,f4,f4,f4\")\n",
    "siddiqi_df = pd.DataFrame(siddiqi_table)\n",
    "siddiqi_df.columns=['index', 'segid', 'nvox', 'volmm3', 'structure_name', 's_mean', 's_std', 's_min', 's_max', 's_range']\n",
    "#siddiqi_df['structure_name'].iloc[5]\n",
    "siddiqi_df['roi'] = siddiqi_df['structure_name'].str.decode(encoding='UTF-8').str.replace(\"-\",\"_\").str.replace(\"_Proper\",\"\")\n",
    "#siddiqi_df.iloc[42:90]\n",
    "\n",
    "#Plotting\n",
    "roi=orreg[0]\n",
    "#for i,roi in enumerate(orreg):\n",
    "#ix = np.where(siddiqi_df['structure_name']==roi)\n",
    "#print(ix)\n",
    "slist = []\n",
    "rl = np.array([siddiqi_df['structure_name'][i].decode('UTF-8') for i in range(0,siddiqi_df.shape[0])])\n",
    "rl2 = pd.DataFrame(rl).replace('Left-Thalamus-Proper','Left-Thalamus').replace('Right-Thalamus-Proper','Right-Thalamus')\n",
    "for i,roi in enumerate(orreg):\n",
    "    ix = np.where(rl2==roi)\n",
    "    if (len(ix[0]) != 0): \n",
    "        #print(ix[0][0])\n",
    "        slist.append(siddiqi_df['s_mean'].iloc[ix[0][0]])\n",
    "svec =  np.array(slist)\n",
    "svec.shape"
   ]
  },
  {
   "cell_type": "code",
   "execution_count": 293,
   "id": "6302172e",
   "metadata": {},
   "outputs": [],
   "source": [
    "#ba.columns[3:].str.replace('_change','')\n",
    "res=pd.read_csv('/resources/roicoordinates.csv')\n",
    "res['absx']=abs(res['x'])\n",
    "res['r_o_i'] = res['roi'].str.replace('-','_').replace('Left_Thalamus','Left_Thalamus_Proper').replace('Right_Thalamus','Right_Thalamus_Proper')\n",
    "res=res.set_index('r_o_i')\n",
    "res = res.reindex(index=ba.columns[3:].str.replace('_change',''))\n",
    "res = res.reset_index()\n",
    "#res"
   ]
  },
  {
   "cell_type": "markdown",
   "id": "7a9e9c16",
   "metadata": {},
   "source": [
    "## Volume Change"
   ]
  },
  {
   "cell_type": "markdown",
   "id": "a241ddec",
   "metadata": {},
   "source": [
    "### Permutation test version 1\n",
    "Here we randomly reassign DeltaVOL_ij to DeltaVOL_ik where i is the ith ROI and j and k is the jth and kth subject. We do this reassignment independntly in all 85 regions. Then we calculate PCA, we repeat it 1000 times and build a distribution that can be used to make statistical inference. "
   ]
  },
  {
   "cell_type": "code",
   "execution_count": 288,
   "id": "97404f4c",
   "metadata": {},
   "outputs": [
    {
     "name": "stderr",
     "output_type": "stream",
     "text": [
      "/tmp/ipykernel_25/3108936441.py:26: FutureWarning: merging between different levels is deprecated and will be removed in a future version. (2 levels on the left, 1 on the right)\n",
      "  Xw = Xwide.merge(Xlong[['Record ID', 'age', 'Hamd change percent','pmnt', 'nECT']].drop_duplicates(), on='Record ID').dropna()\n",
      "/tmp/ipykernel_25/3108936441.py:26: FutureWarning: merging between different levels is deprecated and will be removed in a future version. (2 levels on the left, 1 on the right)\n",
      "  Xw = Xwide.merge(Xlong[['Record ID', 'age', 'Hamd change percent','pmnt', 'nECT']].drop_duplicates(), on='Record ID').dropna()\n",
      "/tmp/ipykernel_25/3108936441.py:26: FutureWarning: merging between different levels is deprecated and will be removed in a future version. (2 levels on the left, 1 on the right)\n",
      "  Xw = Xwide.merge(Xlong[['Record ID', 'age', 'Hamd change percent','pmnt', 'nECT']].drop_duplicates(), on='Record ID').dropna()\n",
      "/tmp/ipykernel_25/3108936441.py:26: FutureWarning: merging between different levels is deprecated and will be removed in a future version. (2 levels on the left, 1 on the right)\n",
      "  Xw = Xwide.merge(Xlong[['Record ID', 'age', 'Hamd change percent','pmnt', 'nECT']].drop_duplicates(), on='Record ID').dropna()\n",
      "/tmp/ipykernel_25/3108936441.py:26: FutureWarning: merging between different levels is deprecated and will be removed in a future version. (2 levels on the left, 1 on the right)\n",
      "  Xw = Xwide.merge(Xlong[['Record ID', 'age', 'Hamd change percent','pmnt', 'nECT']].drop_duplicates(), on='Record ID').dropna()\n",
      "/tmp/ipykernel_25/3108936441.py:26: FutureWarning: merging between different levels is deprecated and will be removed in a future version. (2 levels on the left, 1 on the right)\n",
      "  Xw = Xwide.merge(Xlong[['Record ID', 'age', 'Hamd change percent','pmnt', 'nECT']].drop_duplicates(), on='Record ID').dropna()\n"
     ]
    }
   ],
   "source": [
    "#gli\n",
    "\n",
    "from sklearn.model_selection import train_test_split\n",
    "from sklearn.decomposition import PCA\n",
    "from sklearn.preprocessing import StandardScaler\n",
    "from scipy.stats import pearsonr\n",
    "from scipy.stats import spearmanr\n",
    "\n",
    "gli=np.array(range(0,85))\n",
    "biglist1=[]\n",
    "for k in range(2): #PC1 or PC2\n",
    "    for pp in range(3): #this is the placement 0 RUL 1 BT 2 MIX\n",
    "        clist = gli+85\n",
    "        pcacomp=2\n",
    "        #eflist = np.append(np.array(range(0,85)),170)\n",
    "        eflist = np.array(range(0,85))\n",
    "        pcloads = np.empty((len(gli),0),float)\n",
    "        pcs = []\n",
    "        adat = []\n",
    "        outcome = []\n",
    "        strloads=[]\n",
    "        recordids=[]\n",
    "\n",
    "        Xlong=efvol_sid_hamd2[['Record ID', 'roi','ef_mix3','volume change','age', 'Hamd change percent','pmnt','nECT']].iloc[np.where(efvol_sid_hamd2['pmnt']==pp)]\n",
    "        Xwide=pd.pivot(Xlong, index='Record ID', columns= 'roi', values=['ef_mix3','volume change'])\n",
    "        Xw = Xwide.merge(Xlong[['Record ID', 'age', 'Hamd change percent','pmnt', 'nECT']].drop_duplicates(), on='Record ID').dropna()\n",
    "        recordids.append(Xw.iloc[:,0].values)\n",
    "        X=Xw.iloc[:,1:(Xw.shape[1]-4)].values\n",
    "        X_train=X[:,clist]\n",
    "        #y =Xw.iloc[:,(Xw.shape[1]-4):Xw.shape[1]].values\n",
    "        sc=StandardScaler()\n",
    "        X_train = sc.fit_transform(X_train)\n",
    "        #X_train.std(axis=0)\n",
    "        #Xlater = X_train.copy()\n",
    "        #adat.append(Xlater)\n",
    "        pca = PCA(n_components = pcacomp)\n",
    "        X_train = pca.fit_transform(X_train)\n",
    "        rvalues_real=abs(pearsonr(pca.components_[k,:],svec[gli])[0])\n",
    "        #rvalues_real=abs(spearmanr(pca.components_[k,:],svec[gli])[0])\n",
    "        rvalues = []\n",
    "        for j in range(1000):\n",
    "            X_train=X[:,clist]\n",
    "            NR = X_train.shape[1]\n",
    "            for i in range(NR):\n",
    "                ix = np.random.permutation(X_train.shape[0])\n",
    "                X_train[:,i] = X_train[ix,i]\n",
    "            sc=StandardScaler()\n",
    "            X_train = sc.fit_transform(X_train)\n",
    "            #X_train.std(axis=0)\n",
    "            #Xlater = X_train.copy()\n",
    "            #adat.append(Xlater)\n",
    "            pca = PCA(n_components = pcacomp)\n",
    "            X_train = pca.fit_transform(X_train)\n",
    "            rvalues.append(abs(pearsonr(pca.components_[k,:],svec[gli])[0]))#pc is well defined only to a -1 so we need absolute\n",
    "            #pca.components_[k,:]\n",
    "        biglist1.append(list(rvalues))\n",
    "        biglist1.append(rvalues_real)"
   ]
  },
  {
   "cell_type": "code",
   "execution_count": 289,
   "id": "12f0cbb7",
   "metadata": {},
   "outputs": [
    {
     "data": {
      "image/png": "[encoded data removed]",
      "text/plain": [
       "<Figure size 1440x576 with 6 Axes>"
      ]
     },
     "metadata": {
      "needs_background": "light"
     },
     "output_type": "display_data"
    }
   ],
   "source": [
    "import matplotlib.pyplot as plt\n",
    "import seaborn as sns\n",
    "fig, axs = plt.subplot_mosaic(\"XYZ;ABC\", figsize=(20,8))\n",
    "figpl = ['X','Y', 'Z','A','B','C']\n",
    "mypmnt = ['RUL', 'BT', 'MIX','RUL', 'BT', 'MIX']\n",
    "for j in range(6):\n",
    "    _ = sns.histplot(biglist1[2*j], ax=axs[figpl[j]])\n",
    "    axs[figpl[j]].axvline(biglist1[2*j+1],0,10, color='red')\n",
    "    axs[figpl[j]].set_title(mypmnt[j])"
   ]
  },
  {
   "cell_type": "markdown",
   "id": "4707f102",
   "metadata": {},
   "source": [
    "### PC1 vs PC2 in a multiple regression"
   ]
  },
  {
   "cell_type": "code",
   "execution_count": 345,
   "id": "cb871b0e",
   "metadata": {},
   "outputs": [
    {
     "name": "stderr",
     "output_type": "stream",
     "text": [
      "/tmp/ipykernel_25/1963287519.py:26: FutureWarning: merging between different levels is deprecated and will be removed in a future version. (2 levels on the left, 1 on the right)\n",
      "  Xw = Xwide.merge(Xlong[['Record ID', 'age', 'Hamd change percent','pmnt', 'nECT']].drop_duplicates(), on='Record ID').dropna()\n",
      "/tmp/ipykernel_25/1963287519.py:26: FutureWarning: merging between different levels is deprecated and will be removed in a future version. (2 levels on the left, 1 on the right)\n",
      "  Xw = Xwide.merge(Xlong[['Record ID', 'age', 'Hamd change percent','pmnt', 'nECT']].drop_duplicates(), on='Record ID').dropna()\n",
      "/tmp/ipykernel_25/1963287519.py:26: FutureWarning: merging between different levels is deprecated and will be removed in a future version. (2 levels on the left, 1 on the right)\n",
      "  Xw = Xwide.merge(Xlong[['Record ID', 'age', 'Hamd change percent','pmnt', 'nECT']].drop_duplicates(), on='Record ID').dropna()\n"
     ]
    }
   ],
   "source": [
    "#gli\n",
    "\n",
    "from sklearn.model_selection import train_test_split\n",
    "from sklearn.decomposition import PCA\n",
    "from sklearn.preprocessing import StandardScaler\n",
    "from scipy.stats import pearsonr\n",
    "from scipy.stats import spearmanr\n",
    "\n",
    "gli=np.array(range(0,85))\n",
    "biglist15=[]\n",
    "#for k in range(2): #PC1 or PC2\n",
    "for pp in range(3): #this is the placement 0 RUL 1 BT 2 MIX\n",
    "    clist = gli+85\n",
    "    pcacomp=2\n",
    "    #eflist = np.append(np.array(range(0,85)),170)\n",
    "    eflist = np.array(range(0,85))\n",
    "    pcloads = np.empty((len(gli),0),float)\n",
    "    pcs = []\n",
    "    adat = []\n",
    "    outcome = []\n",
    "    strloads=[]\n",
    "    recordids=[]\n",
    "\n",
    "    Xlong=efvol_sid_hamd2[['Record ID', 'roi','ef_mix3','volume change','age', 'Hamd change percent','pmnt','nECT']].iloc[np.where(efvol_sid_hamd2['pmnt']==pp)]\n",
    "    Xwide=pd.pivot(Xlong, index='Record ID', columns= 'roi', values=['ef_mix3','volume change'])\n",
    "    Xw = Xwide.merge(Xlong[['Record ID', 'age', 'Hamd change percent','pmnt', 'nECT']].drop_duplicates(), on='Record ID').dropna()\n",
    "    recordids.append(Xw.iloc[:,0].values)\n",
    "    X=Xw.iloc[:,1:(Xw.shape[1]-4)].values\n",
    "    X_train=X[:,clist]\n",
    "    #y =Xw.iloc[:,(Xw.shape[1]-4):Xw.shape[1]].values\n",
    "    sc=StandardScaler()\n",
    "    X_train = sc.fit_transform(X_train)\n",
    "    #X_train.std(axis=0)\n",
    "    #Xlater = X_train.copy()\n",
    "    #adat.append(Xlater)\n",
    "    pca = PCA(n_components = pcacomp)\n",
    "    X_train = pca.fit_transform(X_train)\n",
    "    #rvalues_real=abs(pearsonr(pca.components_[k,:],svec[gli])[0])\n",
    "    #rvalues_real=abs(spearmanr(pca.components_[k,:],svec[gli])[0])\n",
    "    #rvalues = []\n",
    "    res['perm1']=pca.components_[0,:]\n",
    "    res['perm2']=pca.components_[1,:]\n",
    "    mpc1=pca.components_[0,:]\n",
    "    mpc2=pca.components_[1,:]\n",
    "    #X=res[['absx','y','z','perm1','perm2']]\n",
    "    #XX=res[['perm1','perm2','absx','y','z']]\n",
    "    XX=res[['perm1','perm2']]\n",
    "    #X=res[[name[kk],'absx','y','z']]\n",
    "    y=res['sid']\n",
    "    XX = sm.add_constant(XX)\n",
    "    model = sm.OLS(y,XX).fit()\n",
    "    predictions = model.predict(XX)\n",
    "    rv1=(abs(model.tvalues[1]))\n",
    "    rv2=(abs(model.tvalues[2]))\n",
    "    perm1=[]\n",
    "    perm2=[]\n",
    "    for g in range(2):\n",
    "        for j in range(1000):\n",
    "            X_train=X[:,clist]\n",
    "            NR = X_train.shape[1]\n",
    "            for i in range(NR):\n",
    "                ix = np.random.permutation(X_train.shape[0])\n",
    "                X_train[:,i] = X_train[ix,i]\n",
    "            sc=StandardScaler()\n",
    "            X_train = sc.fit_transform(X_train)\n",
    "            #X_train.std(axis=0)\n",
    "            #Xlater = X_train.copy()\n",
    "            #adat.append(Xlater)\n",
    "            pca = PCA(n_components = pcacomp)\n",
    "            X_train = pca.fit_transform(X_train)\n",
    "            #rvalues.append(abs(spearmanr(pca.components_[k,:],svec[gli])[0]))#pc is well defined only to a -1 so we need absolute\n",
    "            #pca.components_[k,:]\n",
    "            if (g==0):\n",
    "                res['perm1']=pca.components_[0,:]\n",
    "                res['perm2']=mpc2\n",
    "            else:\n",
    "                res['perm2']=pca.components_[1,:]\n",
    "                res['perm1']=mpc1\n",
    "            #X=res[['absx','y','z','perm1','perm2']]\n",
    "            #XX=res[['perm1','perm2','absx','y','z']]\n",
    "            XX=res[['perm1','perm2']]\n",
    "            #X=res[[name[kk],'absx','y','z']]\n",
    "            y=res['sid']\n",
    "            XX = sm.add_constant(XX)\n",
    "            model = sm.OLS(y,XX).fit()\n",
    "            predictions = model.predict(XX)\n",
    "            if (g==0):\n",
    "                perm1.append(abs(model.tvalues[1]))\n",
    "            else:\n",
    "                perm2.append(abs(model.tvalues[2]))\n",
    "    biglist15.append(list(perm1))\n",
    "    biglist15.append(rv1)\n",
    "    biglist15.append(list(perm2))\n",
    "    biglist15.append(rv2)\n",
    "    \n",
    "    "
   ]
  },
  {
   "cell_type": "code",
   "execution_count": 346,
   "id": "b7e8748f",
   "metadata": {},
   "outputs": [
    {
     "data": {
      "image/png": "[encoded data removed]",
      "text/plain": [
       "<Figure size 1440x576 with 6 Axes>"
      ]
     },
     "metadata": {
      "needs_background": "light"
     },
     "output_type": "display_data"
    }
   ],
   "source": [
    "fig, axs = plt.subplot_mosaic(\"XYZ;ABC\", figsize=(20,8))\n",
    "figpl = ['X','A','Y','B','Z','C']\n",
    "mypmnt = ['RUL','RUL', 'BT',  'BT', 'MIX','MIX']\n",
    "for j in range(6):\n",
    "    _ = sns.histplot(biglist15[2*j], ax=axs[figpl[j]])\n",
    "    axs[figpl[j]].axvline(biglist15[2*j+1],0,10, color='red')\n",
    "    axs[figpl[j]].set_title(mypmnt[j])\n"
   ]
  },
  {
   "cell_type": "code",
   "execution_count": null,
   "id": "2b98a169",
   "metadata": {},
   "outputs": [],
   "source": [
    "for j in range(6):\n",
    "    print(1- np.where(biglist15[2*j]<biglist15[2*j+1])[0].shape[0]/1000)"
   ]
  },
  {
   "cell_type": "markdown",
   "id": "2348a4b3",
   "metadata": {},
   "source": [
    "### XYZ"
   ]
  },
  {
   "cell_type": "code",
   "execution_count": 348,
   "id": "a68fa55b",
   "metadata": {},
   "outputs": [
    {
     "name": "stderr",
     "output_type": "stream",
     "text": [
      "/tmp/ipykernel_25/943402635.py:26: FutureWarning: merging between different levels is deprecated and will be removed in a future version. (2 levels on the left, 1 on the right)\n",
      "  Xw = Xwide.merge(Xlong[['Record ID', 'age', 'Hamd change percent','pmnt', 'nECT']].drop_duplicates(), on='Record ID').dropna()\n",
      "/tmp/ipykernel_25/943402635.py:26: FutureWarning: merging between different levels is deprecated and will be removed in a future version. (2 levels on the left, 1 on the right)\n",
      "  Xw = Xwide.merge(Xlong[['Record ID', 'age', 'Hamd change percent','pmnt', 'nECT']].drop_duplicates(), on='Record ID').dropna()\n",
      "/tmp/ipykernel_25/943402635.py:26: FutureWarning: merging between different levels is deprecated and will be removed in a future version. (2 levels on the left, 1 on the right)\n",
      "  Xw = Xwide.merge(Xlong[['Record ID', 'age', 'Hamd change percent','pmnt', 'nECT']].drop_duplicates(), on='Record ID').dropna()\n"
     ]
    }
   ],
   "source": [
    "#gli\n",
    "\n",
    "from sklearn.model_selection import train_test_split\n",
    "from sklearn.decomposition import PCA\n",
    "from sklearn.preprocessing import StandardScaler\n",
    "from scipy.stats import pearsonr\n",
    "from scipy.stats import spearmanr\n",
    "\n",
    "gli=np.array(range(0,85))\n",
    "biglist15=[]\n",
    "#for k in range(2): #PC1 or PC2\n",
    "for pp in range(3): #this is the placement 0 RUL 1 BT 2 MIX\n",
    "    clist = gli+85\n",
    "    pcacomp=2\n",
    "    #eflist = np.append(np.array(range(0,85)),170)\n",
    "    eflist = np.array(range(0,85))\n",
    "    pcloads = np.empty((len(gli),0),float)\n",
    "    pcs = []\n",
    "    adat = []\n",
    "    outcome = []\n",
    "    strloads=[]\n",
    "    recordids=[]\n",
    "\n",
    "    Xlong=efvol_sid_hamd2[['Record ID', 'roi','ef_mix3','volume change','age', 'Hamd change percent','pmnt','nECT']].iloc[np.where(efvol_sid_hamd2['pmnt']==pp)]\n",
    "    Xwide=pd.pivot(Xlong, index='Record ID', columns= 'roi', values=['ef_mix3','volume change'])\n",
    "    Xw = Xwide.merge(Xlong[['Record ID', 'age', 'Hamd change percent','pmnt', 'nECT']].drop_duplicates(), on='Record ID').dropna()\n",
    "    recordids.append(Xw.iloc[:,0].values)\n",
    "    X=Xw.iloc[:,1:(Xw.shape[1]-4)].values\n",
    "    X_train=X[:,clist]\n",
    "    #y =Xw.iloc[:,(Xw.shape[1]-4):Xw.shape[1]].values\n",
    "    sc=StandardScaler()\n",
    "    X_train = sc.fit_transform(X_train)\n",
    "    #X_train.std(axis=0)\n",
    "    #Xlater = X_train.copy()\n",
    "    #adat.append(Xlater)\n",
    "    pca = PCA(n_components = pcacomp)\n",
    "    X_train = pca.fit_transform(X_train)\n",
    "    #rvalues_real=abs(pearsonr(pca.components_[k,:],svec[gli])[0])\n",
    "    #rvalues_real=abs(spearmanr(pca.components_[k,:],svec[gli])[0])\n",
    "    #rvalues = []\n",
    "    res['perm1']=pca.components_[0,:]\n",
    "    res['perm2']=pca.components_[1,:]\n",
    "    mpc1=pca.components_[0,:]\n",
    "    mpc2=pca.components_[1,:]\n",
    "    #X=res[['absx','y','z','perm1','perm2']]\n",
    "    XX=res[['perm1','perm2','absx','y','z']]\n",
    "    #XX=res[['perm1','perm2']]\n",
    "    #X=res[[name[kk],'absx','y','z']]\n",
    "    y=res['sid']\n",
    "    XX = sm.add_constant(XX)\n",
    "    model = sm.OLS(y,XX).fit()\n",
    "    predictions = model.predict(XX)\n",
    "    rv1=(abs(model.tvalues[1]))\n",
    "    rv2=(abs(model.tvalues[2]))\n",
    "    perm1=[]\n",
    "    perm2=[]\n",
    "    for g in range(2):\n",
    "        for j in range(1000):\n",
    "            X_train=X[:,clist]\n",
    "            NR = X_train.shape[1]\n",
    "            for i in range(NR):\n",
    "                ix = np.random.permutation(X_train.shape[0])\n",
    "                X_train[:,i] = X_train[ix,i]\n",
    "            sc=StandardScaler()\n",
    "            X_train = sc.fit_transform(X_train)\n",
    "            #X_train.std(axis=0)\n",
    "            #Xlater = X_train.copy()\n",
    "            #adat.append(Xlater)\n",
    "            pca = PCA(n_components = pcacomp)\n",
    "            X_train = pca.fit_transform(X_train)\n",
    "            #rvalues.append(abs(spearmanr(pca.components_[k,:],svec[gli])[0]))#pc is well defined only to a -1 so we need absolute\n",
    "            #pca.components_[k,:]\n",
    "            if (g==0):\n",
    "                res['perm1']=pca.components_[0,:]\n",
    "                res['perm2']=mpc2\n",
    "            else:\n",
    "                res['perm2']=pca.components_[1,:]\n",
    "                res['perm1']=mpc1\n",
    "            #X=res[['absx','y','z','perm1','perm2']]\n",
    "            XX=res[['perm1','perm2','absx','y','z']]\n",
    "            #XX=res[['perm1','perm2']]\n",
    "            #X=res[[name[kk],'absx','y','z']]\n",
    "            y=res['sid']\n",
    "            XX = sm.add_constant(XX)\n",
    "            model = sm.OLS(y,XX).fit()\n",
    "            predictions = model.predict(XX)\n",
    "            if (g==0):\n",
    "                perm1.append(abs(model.tvalues[1]))\n",
    "            else:\n",
    "                perm2.append(abs(model.tvalues[2]))\n",
    "    biglist15.append(list(perm1))\n",
    "    biglist15.append(rv1)\n",
    "    biglist15.append(list(perm2))\n",
    "    biglist15.append(rv2)\n",
    "    \n",
    "    "
   ]
  },
  {
   "cell_type": "code",
   "execution_count": 350,
   "id": "4a0f2493",
   "metadata": {},
   "outputs": [
    {
     "data": {
      "image/png": "[encoded data removed]",
      "text/plain": [
       "<Figure size 1440x576 with 6 Axes>"
      ]
     },
     "metadata": {
      "needs_background": "light"
     },
     "output_type": "display_data"
    }
   ],
   "source": [
    "fig, axs = plt.subplot_mosaic(\"XYZ;ABC\", figsize=(20,8))\n",
    "figpl = ['X','A','Y','B','Z','C']\n",
    "mypmnt = ['RUL','RUL', 'BT',  'BT', 'MIX','MIX']\n",
    "for j in range(6):\n",
    "    _ = sns.histplot(biglist15[2*j], ax=axs[figpl[j]])\n",
    "    axs[figpl[j]].axvline(biglist15[2*j+1],0,10, color='red')\n",
    "    axs[figpl[j]].set_title(mypmnt[j])"
   ]
  },
  {
   "cell_type": "code",
   "execution_count": 351,
   "id": "1174e420",
   "metadata": {},
   "outputs": [
    {
     "name": "stdout",
     "output_type": "stream",
     "text": [
      "0.03500000000000003\n",
      "0.0\n",
      "0.041000000000000036\n",
      "0.0\n",
      "0.252\n",
      "0.494\n"
     ]
    }
   ],
   "source": [
    "for j in range(6):\n",
    "    print(1- np.where(biglist15[2*j]<biglist15[2*j+1])[0].shape[0]/1000)"
   ]
  },
  {
   "cell_type": "markdown",
   "id": "b58a7382",
   "metadata": {},
   "source": [
    "### Permutation test version 2 - based on the reviewer suggestion - only can be applied to volume change\n",
    "\n",
    "We had the baseline volume image and the post ECT image and we randomly reassigned the baseline to different individuals and calculated this randolmly shuffeled volume changes and corresponding PCAs"
   ]
  },
  {
   "cell_type": "code",
   "execution_count": 49,
   "id": "deb33c78",
   "metadata": {},
   "outputs": [
    {
     "name": "stderr",
     "output_type": "stream",
     "text": [
      "/tmp/ipykernel_25/3629963977.py:3: DtypeWarning: Columns (13,35,36,37,52,104,163,167,174,176) have mixed types. Specify dtype option on import or set low_memory=False.\n",
      "  ectdf = pd.read_csv('/resources/ANALYSIS/ECT_DATA_LABELS_2022-06-14_1917.csv')\n"
     ]
    }
   ],
   "source": [
    "#to do the recommended review wise...\n",
    "\n",
    "ectdf = pd.read_csv('/resources/ANALYSIS/ECT_DATA_LABELS_2022-06-14_1917.csv')\n",
    "#for i, col in enumerate(ectdf.columns):\n",
    "#    print(col)\n",
    "\n",
    "ixs = []\n",
    "for i,col in enumerate(orreg):\n",
    "    ix = np.where(ectdf.columns == col.replace('-','_').replace('Thalamus','Thalamus_Proper')+'_baseline')\n",
    "    if len(ix[0])>0:\n",
    "        #print(orreg[ix[0]])\n",
    "        ixs.append(ix[0][0])\n",
    "mc= ['Record ID', 'Event Name'] + ectdf.columns[ixs].values.tolist()\n",
    "baseline_vol = ectdf[mc].iloc[np.where(ectdf['Event Name']=='after_treatment')]\n",
    "baseline_vol\n",
    "mb = ectdf.columns[ixs].values.tolist()\n",
    "\n",
    "ixs = []\n",
    "for i,col in enumerate(orreg):\n",
    "    ix = np.where(ectdf.columns == col.replace('-','_').replace('Thalamus','Thalamus_Proper')+'_change')\n",
    "    if len(ix[0])>0:\n",
    "        #print(orreg[ix[0]])\n",
    "        ixs.append(ix[0][0])\n",
    "mc= ['Record ID', 'Event Name'] + ectdf.columns[ixs].values.tolist()\n",
    "change_vol = ectdf[mc].iloc[np.where(ectdf['Event Name']=='after_treatment')]\n",
    "change_vol\n",
    "mc = ectdf.columns[ixs].values.tolist()\n",
    "\n",
    "#we use the fact that the order of the rois is identical\n",
    "#change= 2*(vol2-vol1)/(vol2+vol1)\n",
    "#comes: v2 = (1+2c)*v1/(1-2c)\n",
    "basvol = baseline_vol.copy()\n",
    "basvol.columns= ['Record ID', 'Event Name'] +mc\n",
    "#basvol# name should not fool you\n",
    "post_vol= change_vol[['Record ID', 'Event Name']].join(((1+2*change_vol.loc[:,mc])/(1-2*change_vol.loc[:,mc]))*basvol.loc[:,mc])\n",
    "#post_vol\n",
    "#((1+2*change_vol.loc[:,mc])/(1-2*change_vol.loc[:,mc]))*basvol.loc[:,mc]"
   ]
  },
  {
   "cell_type": "markdown",
   "id": "c07edbe8",
   "metadata": {},
   "source": [
    "##### here we chose first the placement"
   ]
  },
  {
   "cell_type": "code",
   "execution_count": 290,
   "id": "ab07d059",
   "metadata": {},
   "outputs": [],
   "source": [
    "biglist2=[]\n",
    "for kk in range(2): #PC1 or PC2\n",
    "    for pp in range(3): #this is the placement 0 RUL 1 BT 2 MIX\n",
    "        po = post_vol.iloc[np.where(post_vol['Record ID'].isin(efvol_sid_hamd2['Record ID'].iloc[np.where(efvol_sid_hamd2['pmnt']==pp)].unique()))].reset_index().copy()\n",
    "        ba = basvol.iloc[np.where(basvol['Record ID'].isin(efvol_sid_hamd2['Record ID'].iloc[np.where(efvol_sid_hamd2['pmnt']==pp)].unique()))].reset_index().copy()\n",
    "\n",
    "\n",
    "        #ba and po \n",
    "        rvalues=[]\n",
    "        for k in range(1000):\n",
    "            ix = np.random.permutation(po.shape[0])\n",
    "            #ix=range(246)\n",
    "            X_train = 2*(np.array(po.loc[:,mc])-np.array(ba.loc[ix,mc])[ix,:])/(np.array(po.loc[:,mc])+np.array(ba.loc[:,mc])[ix,:])\n",
    "\n",
    "            #X_train = np.array(2*(po.loc[:,mc]-ba.loc[ix,mc])/(po.loc[:,mc]+ba.loc[ix,mc]))\n",
    "            X_train\n",
    "\n",
    "            pcacomp=2\n",
    "            #eflist = np.append(np.array(range(0,85)),170)\n",
    "            eflist = np.array(range(0,85))\n",
    "            pcloads = np.empty((len(gli),0),float)\n",
    "            pcs = []\n",
    "            adat = []\n",
    "            outcome = []\n",
    "            strloads=[]\n",
    "            recordids=[]\n",
    "            sc=StandardScaler()\n",
    "            X_train = sc.fit_transform(X_train)\n",
    "            #X_train.std(axis=0)\n",
    "            #Xlater = X_train.copy()\n",
    "            #adat.append(Xlater)\n",
    "            pca = PCA(n_components = pcacomp)\n",
    "            X_train = pca.fit_transform(X_train)\n",
    "            #rvalues.append(abs(pearsonr(pca.components_[kk,:],svec[gli])[0]))#abs is needed as the pc sign is not well defined\n",
    "            rvalues.append(abs(pearsonr(pca.components_[kk,:],svec[gli])[0]))#abs is needed as the pc sign is not well defined\n",
    "            #rvalues_real #we get the original\n",
    "        biglist2.append(list(rvalues))\n",
    "        #biglist2.append(rvalues_real)"
   ]
  },
  {
   "cell_type": "code",
   "execution_count": 291,
   "id": "3bf5c25f",
   "metadata": {},
   "outputs": [
    {
     "data": {
      "image/png": "[encoded data removed]",
      "text/plain": [
       "<Figure size 1440x576 with 6 Axes>"
      ]
     },
     "metadata": {
      "needs_background": "light"
     },
     "output_type": "display_data"
    }
   ],
   "source": [
    "fig, axs = plt.subplot_mosaic(\"XYZ;ABC\", figsize=(20,8))\n",
    "figpl = ['X','Y', 'Z','A','B','C']\n",
    "mypmnt = ['RUL', 'BT', 'MIX','RUL', 'BT', 'MIX']\n",
    "for j in range(6):\n",
    "    _ = sns.histplot(biglist2[j], ax=axs[figpl[j]])#here we just stored the permutations\n",
    "    axs[figpl[j]].axvline(biglist1[2*j+1],0,10, color='red')#we use the real value from earlier\n",
    "    axs[figpl[j]].set_title(mypmnt[j])"
   ]
  },
  {
   "cell_type": "code",
   "execution_count": 292,
   "id": "d4bde849",
   "metadata": {},
   "outputs": [
    {
     "name": "stdout",
     "output_type": "stream",
     "text": [
      "0.44300175515241763\n",
      "0.49641513941676046\n",
      "0.46334609552325823\n",
      "0.6508678978312301\n",
      "0.5806128807319512\n",
      "0.39614491555133\n"
     ]
    }
   ],
   "source": [
    "for j in range(6):\n",
    "    print(biglist1[2*j+1])"
   ]
  },
  {
   "cell_type": "markdown",
   "id": "c91757c9",
   "metadata": {},
   "source": [
    "### Permutation of the pc values and calculating t"
   ]
  },
  {
   "cell_type": "code",
   "execution_count": 352,
   "id": "c7f966fd",
   "metadata": {},
   "outputs": [],
   "source": [
    "import statsmodels.api as sm\n",
    "\n",
    "\n",
    "name = ['perm1', 'perm2']\n",
    "\n",
    "biglist3=[]\n",
    "\n",
    "for pp in range(3): #this is the placement 0 RUL 1 BT 2 MIX\n",
    "    #for kk in range(2):#PC1 and PC2\n",
    "        po = post_vol.iloc[np.where(post_vol['Record ID'].isin(efvol_sid_hamd2['Record ID'].iloc[np.where(efvol_sid_hamd2['pmnt']==pp)].unique()))].reset_index().copy()\n",
    "        ba = basvol.iloc[np.where(basvol['Record ID'].isin(efvol_sid_hamd2['Record ID'].iloc[np.where(efvol_sid_hamd2['pmnt']==pp)].unique()))].reset_index().copy()\n",
    "\n",
    "\n",
    "        #ba and po \n",
    "        \n",
    "        perm1=[]\n",
    "        perm2=[]\n",
    "        for g in range(2):\n",
    "            for k in range(1000):\n",
    "                ix = np.random.permutation(po.shape[0])\n",
    "                #ix=range(246)\n",
    "                X_train = 2*(np.array(po.loc[:,mc])-np.array(ba.loc[ix,mc])[ix,:])/(np.array(po.loc[:,mc])+np.array(ba.loc[:,mc])[ix,:])\n",
    "\n",
    "                #X_train = np.array(2*(po.loc[:,mc]-ba.loc[ix,mc])/(po.loc[:,mc]+ba.loc[ix,mc]))\n",
    "                X_train\n",
    "\n",
    "                pcacomp=2\n",
    "                #eflist = np.append(np.array(range(0,85)),170)\n",
    "                eflist = np.array(range(0,85))\n",
    "                pcloads = np.empty((len(gli),0),float)\n",
    "                pcs = []\n",
    "                adat = []\n",
    "                outcome = []\n",
    "                strloads=[]\n",
    "                recordids=[]\n",
    "                sc=StandardScaler()\n",
    "                X_train = sc.fit_transform(X_train)\n",
    "                #X_train.std(axis=0)\n",
    "                #Xlater = X_train.copy()\n",
    "                #adat.append(Xlater)\n",
    "                pca = PCA(n_components = pcacomp)\n",
    "                X_train = pca.fit_transform(X_train)\n",
    "                #rvalues.append(abs(pearsonr(pca.components_[kk,:],svec[gli])[0]))#abs is needed as the pc sign is not well defined\n",
    "                #rvalues.append(abs(spearmanr(pca.components_[kk,:],svec[gli])[0]))#abs is needed as the pc sign is not well defined\n",
    "                if (g==0): #fixing second PC2\n",
    "                    res['perm1']=pca.components_[0,:]\n",
    "                    res['perm2']=res[mypcs[2*pp+1]]\n",
    "                else: #fixing PC1\n",
    "                    res['perm1']=res[mypcs[2*pp]]\n",
    "                    res['perm2']=pca.components_[1,:]\n",
    "                \n",
    "                #X=res[['absx','y','z','perm1','perm2']]\n",
    "                #X=res[['perm1','perm2','absx','y','z']]\n",
    "                X=res[['perm1','perm2']]\n",
    "                #X=res[[name[kk],'absx','y','z']]\n",
    "                y=res['sid']\n",
    "                X = sm.add_constant(X)\n",
    "                model = sm.OLS(y,X).fit()\n",
    "                predictions = model.predict(X)\n",
    "                if (g==0):\n",
    "                    perm1.append(abs(model.tvalues[1]))\n",
    "                else:\n",
    "                    perm2.append(abs(model.tvalues[2]))\n",
    "\n",
    "                #rvalues_real #we get the original\n",
    "        biglist3.append(list(perm1))\n",
    "        biglist3.append(list(perm2))\n",
    "    "
   ]
  },
  {
   "cell_type": "code",
   "execution_count": 353,
   "id": "6eeb3fcc",
   "metadata": {},
   "outputs": [],
   "source": [
    "mypcs=['pc6','pc7','pc8','pc9','pc10','pc11']\n",
    "origvalues =[]\n",
    "for j in range(3):\n",
    "    #for kk in range(2):\n",
    "        #X=res[['absx','y','z',mypcs[2*j],mypcs[2*j+1]]]\n",
    "        #X=res[[mypcs[2*j],mypcs[2*j+1],'absx','y','z']]\n",
    "        X=res[[mypcs[2*j],mypcs[2*j+1]]]\n",
    "        #X=res[[mypcs[2*j+kk],'absx','y','z']]\n",
    "        y=res['sid']\n",
    "        X = sm.add_constant(X)\n",
    "        model = sm.OLS(y,X).fit()\n",
    "        predictions = model.predict(X)\n",
    "        origvalues.append(abs(model.tvalues[1]))\n",
    "        origvalues.append(abs(model.tvalues[2]))"
   ]
  },
  {
   "cell_type": "code",
   "execution_count": 354,
   "id": "93616484",
   "metadata": {},
   "outputs": [
    {
     "data": {
      "image/png": "[encoded data removed]",
      "text/plain": [
       "<Figure size 1440x576 with 6 Axes>"
      ]
     },
     "metadata": {
      "needs_background": "light"
     },
     "output_type": "display_data"
    }
   ],
   "source": [
    "fig, axs = plt.subplot_mosaic(\"XYZ;ABC\", figsize=(20,8))\n",
    "figpl = ['X','A','Y','B', 'Z','C']\n",
    "mypmnt = ['RUL','RUL', 'BT', 'BT', 'MIX', 'MIX']\n",
    "for j in range(6):\n",
    "    _ = sns.histplot(biglist3[j], ax=axs[figpl[j]])#here we just stored the permutations\n",
    "    axs[figpl[j]].axvline(origvalues[j],0,10, color='red')#we use the real value from earlier\n",
    "    axs[figpl[j]].set_title(mypmnt[j])"
   ]
  },
  {
   "cell_type": "code",
   "execution_count": 376,
   "id": "f11a13cc",
   "metadata": {},
   "outputs": [],
   "source": [
    "import statsmodels.api as sm\n",
    "\n",
    "\n",
    "name = ['perm1', 'perm2']\n",
    "\n",
    "biglist3=[]\n",
    "\n",
    "for pp in range(3): #this is the placement 0 RUL 1 BT 2 MIX\n",
    "    #for kk in range(2):#PC1 and PC2\n",
    "        po = post_vol.iloc[np.where(post_vol['Record ID'].isin(efvol_sid_hamd2['Record ID'].iloc[np.where(efvol_sid_hamd2['pmnt']==pp)].unique()))].reset_index().copy()\n",
    "        ba = basvol.iloc[np.where(basvol['Record ID'].isin(efvol_sid_hamd2['Record ID'].iloc[np.where(efvol_sid_hamd2['pmnt']==pp)].unique()))].reset_index().copy()\n",
    "\n",
    "\n",
    "        #ba and po \n",
    "        \n",
    "        perm1=[]\n",
    "        perm2=[]\n",
    "        for g in range(2):\n",
    "            for k in range(1000):\n",
    "                ix = np.random.permutation(po.shape[0])\n",
    "                #ix=range(246)\n",
    "                X_train = 2*(np.array(po.loc[:,mc])-np.array(ba.loc[ix,mc])[ix,:])/(np.array(po.loc[:,mc])+np.array(ba.loc[:,mc])[ix,:])\n",
    "\n",
    "                #X_train = np.array(2*(po.loc[:,mc]-ba.loc[ix,mc])/(po.loc[:,mc]+ba.loc[ix,mc]))\n",
    "                X_train\n",
    "\n",
    "                pcacomp=2\n",
    "                #eflist = np.append(np.array(range(0,85)),170)\n",
    "                eflist = np.array(range(0,85))\n",
    "                pcloads = np.empty((len(gli),0),float)\n",
    "                pcs = []\n",
    "                adat = []\n",
    "                outcome = []\n",
    "                strloads=[]\n",
    "                recordids=[]\n",
    "                sc=StandardScaler()\n",
    "                X_train = sc.fit_transform(X_train)\n",
    "                #X_train.std(axis=0)\n",
    "                #Xlater = X_train.copy()\n",
    "                #adat.append(Xlater)\n",
    "                pca = PCA(n_components = pcacomp)\n",
    "                X_train = pca.fit_transform(X_train)\n",
    "                #rvalues.append(abs(pearsonr(pca.components_[kk,:],svec[gli])[0]))#abs is needed as the pc sign is not well defined\n",
    "                #rvalues.append(abs(spearmanr(pca.components_[kk,:],svec[gli])[0]))#abs is needed as the pc sign is not well defined\n",
    "                if (g==0): #fixing second PC2\n",
    "                    res['perm1']=pca.components_[0,:]\n",
    "                    res['perm2']=res[mypcs[2*pp+1]]\n",
    "                else: #fixing PC1\n",
    "                    res['perm1']=res[mypcs[2*pp]]\n",
    "                    res['perm2']=pca.components_[1,:]\n",
    "                \n",
    "                #X=res[['absx','y','z','perm1','perm2']]\n",
    "                X=res[['perm1','perm2','absx','y','z']]\n",
    "                #X=res[['perm1','perm2']]\n",
    "                #X=res[[name[kk],'absx','y','z']]\n",
    "                y=res['sid']\n",
    "                X = sm.add_constant(X)\n",
    "                model = sm.OLS(y,X).fit()\n",
    "                predictions = model.predict(X)\n",
    "                if (g==0):\n",
    "                    perm1.append(abs(model.tvalues[1]))\n",
    "                else:\n",
    "                    perm2.append(abs(model.tvalues[2]))\n",
    "\n",
    "                #rvalues_real #we get the original\n",
    "        biglist3.append(list(perm1))\n",
    "        biglist3.append(list(perm2))\n",
    "    "
   ]
  },
  {
   "cell_type": "code",
   "execution_count": 377,
   "id": "058bea7b",
   "metadata": {},
   "outputs": [],
   "source": [
    "mypcs=['pc6','pc7','pc8','pc9','pc10','pc11']\n",
    "origvalues =[]\n",
    "for j in range(3):\n",
    "    #for kk in range(2):\n",
    "        #X=res[['absx','y','z',mypcs[2*j],mypcs[2*j+1]]]\n",
    "        X=res[[mypcs[2*j],mypcs[2*j+1],'absx','y','z']]\n",
    "        #X=res[[mypcs[2*j],mypcs[2*j+1]]]\n",
    "        #X=res[[mypcs[2*j+kk],'absx','y','z']]\n",
    "        y=res['sid']\n",
    "        X = sm.add_constant(X)\n",
    "        model = sm.OLS(y,X).fit()\n",
    "        predictions = model.predict(X)\n",
    "        origvalues.append(abs(model.tvalues[1]))\n",
    "        origvalues.append(abs(model.tvalues[2]))"
   ]
  },
  {
   "cell_type": "code",
   "execution_count": 378,
   "id": "02005e6d",
   "metadata": {},
   "outputs": [
    {
     "data": {
      "image/png": "[encoded data removed]",
      "text/plain": [
       "<Figure size 1440x576 with 6 Axes>"
      ]
     },
     "metadata": {
      "needs_background": "light"
     },
     "output_type": "display_data"
    }
   ],
   "source": [
    "fig, axs = plt.subplot_mosaic(\"XYZ;ABC\", figsize=(20,8))\n",
    "figpl = ['X','A','Y','B', 'Z','C']\n",
    "mypmnt = ['RUL','RUL', 'BT', 'BT', 'MIX', 'MIX']\n",
    "for j in range(6):\n",
    "    _ = sns.histplot(biglist3[j], ax=axs[figpl[j]])#here we just stored the permutations\n",
    "    axs[figpl[j]].axvline(origvalues[j],0,10, color='red')#we use the real value from earlier\n",
    "    axs[figpl[j]].set_title(mypmnt[j])"
   ]
  },
  {
   "cell_type": "code",
   "execution_count": 335,
   "id": "7ee56388",
   "metadata": {},
   "outputs": [
    {
     "name": "stdout",
     "output_type": "stream",
     "text": [
      "0.0\n",
      "0.0010000000000000009\n",
      "0.0\n",
      "0.0\n",
      "0.019000000000000017\n",
      "0.378\n"
     ]
    }
   ],
   "source": [
    "for i in range(6):\n",
    "    print(1 - len(np.where(biglist3[i]<origvalues[i])[0])/1000)"
   ]
  },
  {
   "cell_type": "markdown",
   "id": "2f253f4a",
   "metadata": {},
   "source": [
    "### EF permutation"
   ]
  },
  {
   "cell_type": "code",
   "execution_count": 336,
   "id": "8188ab31",
   "metadata": {},
   "outputs": [
    {
     "name": "stderr",
     "output_type": "stream",
     "text": [
      "/tmp/ipykernel_25/3005012483.py:27: FutureWarning: merging between different levels is deprecated and will be removed in a future version. (2 levels on the left, 1 on the right)\n",
      "  Xw = Xwide.merge(Xlong[['Record ID', 'age', 'Hamd change percent','pmnt', 'nECT']].drop_duplicates(), on='Record ID').dropna()\n",
      "/tmp/ipykernel_25/3005012483.py:27: FutureWarning: merging between different levels is deprecated and will be removed in a future version. (2 levels on the left, 1 on the right)\n",
      "  Xw = Xwide.merge(Xlong[['Record ID', 'age', 'Hamd change percent','pmnt', 'nECT']].drop_duplicates(), on='Record ID').dropna()\n",
      "/tmp/ipykernel_25/3005012483.py:27: FutureWarning: merging between different levels is deprecated and will be removed in a future version. (2 levels on the left, 1 on the right)\n",
      "  Xw = Xwide.merge(Xlong[['Record ID', 'age', 'Hamd change percent','pmnt', 'nECT']].drop_duplicates(), on='Record ID').dropna()\n"
     ]
    }
   ],
   "source": [
    "#gli\n",
    "\n",
    "from sklearn.model_selection import train_test_split\n",
    "from sklearn.decomposition import PCA\n",
    "from sklearn.preprocessing import StandardScaler\n",
    "from scipy.stats import pearsonr\n",
    "from scipy.stats import spearmanr\n",
    "\n",
    "gli=np.array(range(0,85))\n",
    "biglistEF=[]\n",
    "#for k in range(2): #PC1 or PC2\n",
    "for pp in range(3): #this is the placement 0 RUL 1 BT 2 MIX\n",
    "    clist = gli\n",
    "    pcacomp=2\n",
    "    #eflist = np.append(np.array(range(0,85)),170)\n",
    "    eflist = np.array(range(0,85))\n",
    "    pcloads = np.empty((len(gli),0),float)\n",
    "    pcs = []\n",
    "    adat = []\n",
    "    outcome = []\n",
    "    strloads=[]\n",
    "    recordids=[]\n",
    "    perm1 = []\n",
    "    perm2 = []\n",
    "    Xlong=efvol_sid_hamd2[['Record ID', 'roi','ef_mix3','volume change','age', 'Hamd change percent','pmnt','nECT']].iloc[np.where(efvol_sid_hamd2['pmnt']==pp)]\n",
    "    Xwide=pd.pivot(Xlong, index='Record ID', columns= 'roi', values=['ef_mix3','volume change'])\n",
    "    Xw = Xwide.merge(Xlong[['Record ID', 'age', 'Hamd change percent','pmnt', 'nECT']].drop_duplicates(), on='Record ID').dropna()\n",
    "    recordids.append(Xw.iloc[:,0].values)\n",
    "    X=Xw.iloc[:,1:(Xw.shape[1]-4)].values\n",
    "    X_train=X[:,clist]\n",
    "    #y =Xw.iloc[:,(Xw.shape[1]-4):Xw.shape[1]].values\n",
    "    sc=StandardScaler()\n",
    "    X_train = sc.fit_transform(X_train)\n",
    "    #X_train.std(axis=0)\n",
    "    #Xlater = X_train.copy()\n",
    "    #adat.append(Xlater)\n",
    "    pca = PCA(n_components = pcacomp)\n",
    "    X_train = pca.fit_transform(X_train)\n",
    "    #rvalues_real=abs(pearsonr(pca.components_[k,:],svec[gli])[0])\n",
    "    #rvalues_real=abs(spearmanr(pca.components_[k,:],svec[gli])[0])\n",
    "    res['perm1']=pca.components_[0,:]\n",
    "    res['perm2']=pca.components_[1,:]\n",
    "    p1fix=pca.components_[0,:]\n",
    "    p2fix=pca.components_[1,:]\n",
    "    \n",
    "    XX=res[['perm1','perm2','absx','y','z']]\n",
    "    y=res['sid']\n",
    "    XX = sm.add_constant(XX)\n",
    "    model = sm.OLS(y,XX).fit()\n",
    "    predictions = model.predict(XX)\n",
    "    perm10=(abs(model.tvalues[1]))\n",
    "    perm20=(abs(model.tvalues[2]))\n",
    "    rvalues = []\n",
    "    for g in range(2):\n",
    "        for j in range(1000):\n",
    "            X_train=X[:,clist]\n",
    "            NR = X_train.shape[1]\n",
    "            for i in range(NR):\n",
    "                ix = np.random.permutation(X_train.shape[0])\n",
    "                X_train[:,i] = X_train[ix,i]\n",
    "            sc=StandardScaler()\n",
    "            X_train = sc.fit_transform(X_train)\n",
    "            #X_train.std(axis=0)\n",
    "            #Xlater = X_train.copy()\n",
    "            #adat.append(Xlater)\n",
    "            pca = PCA(n_components = pcacomp)\n",
    "            X_train = pca.fit_transform(X_train)\n",
    "            #rvalues.append(abs(spearmanr(pca.components_[k,:],svec[gli])[0]))#pc is well defined only to a -1 so we need absolute\n",
    "            #res['perm1']=pca.components_[0,:]\n",
    "            if (g==0):\n",
    "                res['perm2']=p2fix\n",
    "                res['perm1']=pca.components_[0,:]\n",
    "            else:\n",
    "                res['perm1']=p1fix\n",
    "                res['perm2']=pca.components_[1,:]\n",
    "            #X=res[['absx','y','z','perm1','perm2']]\n",
    "            XX=res[['perm1','perm2','absx','y','z']]\n",
    "            #XX=res[['perm1','perm2']]\n",
    "            y=res['sid']\n",
    "            XX = sm.add_constant(XX)\n",
    "            model = sm.OLS(y,XX).fit()\n",
    "            predictions = model.predict(XX)\n",
    "            if (g==0):\n",
    "                perm1.append(abs(model.tvalues[1]))\n",
    "            else:\n",
    "                perm2.append(abs(model.tvalues[2]))\n",
    "\n",
    "        #pca.components_[k,:]\n",
    "    #biglistEF.append(list(rvalues))\n",
    "    #biglistEF.append(rvalues_real)\n",
    "    biglistEF.append(list(perm1))\n",
    "    biglistEF.append(perm10)\n",
    "    biglistEF.append(list(perm2))\n",
    "    biglistEF.append(perm20)"
   ]
  },
  {
   "cell_type": "code",
   "execution_count": 337,
   "id": "b827d26b",
   "metadata": {},
   "outputs": [
    {
     "data": {
      "image/png": "[encoded data removed]",
      "text/plain": [
       "<Figure size 1440x576 with 6 Axes>"
      ]
     },
     "metadata": {
      "needs_background": "light"
     },
     "output_type": "display_data"
    }
   ],
   "source": [
    "fig, axs = plt.subplot_mosaic(\"XYZ;ABC\", figsize=(20,8))\n",
    "figpl = ['X','A','Y','B', 'Z','C']\n",
    "mypmnt = ['RUL','RUL', 'BT', 'BT', 'MIX', 'MIX']\n",
    "for j in range(6):\n",
    "    _ = sns.histplot(biglistEF[2*j], ax=axs[figpl[j]])#here we just stored the permutations\n",
    "    axs[figpl[j]].axvline(biglistEF[2*j+1],0,10, color='red')#we use the real value from earlier\n",
    "    axs[figpl[j]].set_title(mypmnt[j])"
   ]
  }
 ],
 "metadata": {
  "kernelspec": {
   "display_name": "Python 3 (ipykernel)",
   "language": "python",
   "name": "python3"
  },
  "language_info": {
   "codemirror_mode": {
    "name": "ipython",
    "version": 3
   },
   "file_extension": ".py",
   "mimetype": "text/x-python",
   "name": "python",
   "nbconvert_exporter": "python",
   "pygments_lexer": "ipython3",
   "version": "3.9.12"
  }
 },
 "nbformat": 4,
 "nbformat_minor": 5
}
